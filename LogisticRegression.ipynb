{
 "cells": [
  {
   "cell_type": "markdown",
   "id": "fb7b3215-f32e-4785-8272-463eb58a211a",
   "metadata": {},
   "source": [
    "### **IMPORT LIBRARY**"
   ]
  },
  {
   "cell_type": "code",
   "execution_count": 46,
   "id": "8e146afc-aea4-4f36-82d4-ecccf7a837de",
   "metadata": {},
   "outputs": [],
   "source": [
    "import numpy as np\n",
    "import pandas as pd\n"
   ]
  },
  {
   "cell_type": "markdown",
   "id": "78f5a579-98e8-435e-9f4e-92dab1e21808",
   "metadata": {},
   "source": [
    "### **IMPORT DATASET**"
   ]
  },
  {
   "cell_type": "code",
   "execution_count": 47,
   "id": "c0602a39-52fd-442e-ba6c-227a9e9a7729",
   "metadata": {},
   "outputs": [],
   "source": [
    "df = pd.read_csv(\"churn.csv\")"
   ]
  },
  {
   "cell_type": "code",
   "execution_count": 48,
   "id": "f7429e37-df18-403c-80e0-d9e51f1b7638",
   "metadata": {},
   "outputs": [
    {
     "data": {
      "text/html": [
       "<div>\n",
       "<style scoped>\n",
       "    .dataframe tbody tr th:only-of-type {\n",
       "        vertical-align: middle;\n",
       "    }\n",
       "\n",
       "    .dataframe tbody tr th {\n",
       "        vertical-align: top;\n",
       "    }\n",
       "\n",
       "    .dataframe thead th {\n",
       "        text-align: right;\n",
       "    }\n",
       "</style>\n",
       "<table border=\"1\" class=\"dataframe\">\n",
       "  <thead>\n",
       "    <tr style=\"text-align: right;\">\n",
       "      <th></th>\n",
       "      <th>customerID</th>\n",
       "      <th>gender</th>\n",
       "      <th>SeniorCitizen</th>\n",
       "      <th>Partner</th>\n",
       "      <th>Dependents</th>\n",
       "      <th>tenure</th>\n",
       "      <th>PhoneService</th>\n",
       "      <th>MultipleLines</th>\n",
       "      <th>InternetService</th>\n",
       "      <th>OnlineSecurity</th>\n",
       "      <th>...</th>\n",
       "      <th>DeviceProtection</th>\n",
       "      <th>TechSupport</th>\n",
       "      <th>StreamingTV</th>\n",
       "      <th>StreamingMovies</th>\n",
       "      <th>Contract</th>\n",
       "      <th>PaperlessBilling</th>\n",
       "      <th>PaymentMethod</th>\n",
       "      <th>MonthlyCharges</th>\n",
       "      <th>TotalCharges</th>\n",
       "      <th>Churn</th>\n",
       "    </tr>\n",
       "  </thead>\n",
       "  <tbody>\n",
       "    <tr>\n",
       "      <th>0</th>\n",
       "      <td>7590-VHVEG</td>\n",
       "      <td>Female</td>\n",
       "      <td>0</td>\n",
       "      <td>Yes</td>\n",
       "      <td>No</td>\n",
       "      <td>1</td>\n",
       "      <td>No</td>\n",
       "      <td>No phone service</td>\n",
       "      <td>DSL</td>\n",
       "      <td>No</td>\n",
       "      <td>...</td>\n",
       "      <td>No</td>\n",
       "      <td>No</td>\n",
       "      <td>No</td>\n",
       "      <td>No</td>\n",
       "      <td>Month-to-month</td>\n",
       "      <td>Yes</td>\n",
       "      <td>Electronic check</td>\n",
       "      <td>29.85</td>\n",
       "      <td>29.85</td>\n",
       "      <td>No</td>\n",
       "    </tr>\n",
       "  </tbody>\n",
       "</table>\n",
       "<p>1 rows × 21 columns</p>\n",
       "</div>"
      ],
      "text/plain": [
       "   customerID  gender  SeniorCitizen Partner Dependents  tenure PhoneService  \\\n",
       "0  7590-VHVEG  Female              0     Yes         No       1           No   \n",
       "\n",
       "      MultipleLines InternetService OnlineSecurity  ... DeviceProtection  \\\n",
       "0  No phone service             DSL             No  ...               No   \n",
       "\n",
       "  TechSupport StreamingTV StreamingMovies        Contract PaperlessBilling  \\\n",
       "0          No          No              No  Month-to-month              Yes   \n",
       "\n",
       "      PaymentMethod MonthlyCharges  TotalCharges Churn  \n",
       "0  Electronic check          29.85         29.85    No  \n",
       "\n",
       "[1 rows x 21 columns]"
      ]
     },
     "execution_count": 48,
     "metadata": {},
     "output_type": "execute_result"
    }
   ],
   "source": [
    "df.head(1)\n"
   ]
  },
  {
   "cell_type": "markdown",
   "id": "34c78c24-dd9b-48a1-8f3b-42bf12a86d20",
   "metadata": {},
   "source": [
    "### **DATA PREPROCESSING**"
   ]
  },
  {
   "cell_type": "code",
   "execution_count": 49,
   "id": "5fc98f04-fdc0-4d02-bdb7-303896e456e8",
   "metadata": {},
   "outputs": [
    {
     "data": {
      "text/plain": [
       "(7043, 21)"
      ]
     },
     "execution_count": 49,
     "metadata": {},
     "output_type": "execute_result"
    }
   ],
   "source": [
    "df.shape"
   ]
  },
  {
   "cell_type": "code",
   "execution_count": 50,
   "id": "9e064b3a-31f0-4e78-85c2-399ab2f9b110",
   "metadata": {},
   "outputs": [
    {
     "data": {
      "text/plain": [
       "customerID          0\n",
       "gender              0\n",
       "SeniorCitizen       0\n",
       "Partner             0\n",
       "Dependents          0\n",
       "tenure              0\n",
       "PhoneService        0\n",
       "MultipleLines       0\n",
       "InternetService     0\n",
       "OnlineSecurity      0\n",
       "OnlineBackup        0\n",
       "DeviceProtection    0\n",
       "TechSupport         0\n",
       "StreamingTV         0\n",
       "StreamingMovies     0\n",
       "Contract            0\n",
       "PaperlessBilling    0\n",
       "PaymentMethod       0\n",
       "MonthlyCharges      0\n",
       "TotalCharges        0\n",
       "Churn               0\n",
       "dtype: int64"
      ]
     },
     "execution_count": 50,
     "metadata": {},
     "output_type": "execute_result"
    }
   ],
   "source": [
    "df.isnull().sum()"
   ]
  },
  {
   "cell_type": "markdown",
   "id": "d6b6ea74-78cd-4586-96d5-7c7ce6995117",
   "metadata": {},
   "source": [
    "### **IMPORTANT COLUMN**"
   ]
  },
  {
   "cell_type": "code",
   "execution_count": 51,
   "id": "0e88e9db-4a86-4f4b-acb1-f03a42d9dc55",
   "metadata": {},
   "outputs": [],
   "source": [
    "columns_to_keep = ['gender', 'SeniorCitizen', 'Partner', 'Dependents', 'tenure', 'PhoneService', 'MultipleLines', 'Contract', 'TotalCharges', 'Churn']"
   ]
  },
  {
   "cell_type": "code",
   "execution_count": 52,
   "id": "044e2a44-c051-49ad-80ea-23391ba4b680",
   "metadata": {},
   "outputs": [],
   "source": [
    "df = df[columns_to_keep]"
   ]
  },
  {
   "cell_type": "markdown",
   "id": "759fdda8-ff0f-4a89-a56b-897a80996ee6",
   "metadata": {},
   "source": [
    "df.head(1)"
   ]
  },
  {
   "cell_type": "markdown",
   "id": "7a5b6fe8-c8e6-41b6-acd3-7321bc80a078",
   "metadata": {},
   "source": [
    "### **ENCODING BINARY VARIABLE**"
   ]
  },
  {
   "cell_type": "code",
   "execution_count": 53,
   "id": "c0fe0b89-5637-42f0-8548-ce41562dba7b",
   "metadata": {},
   "outputs": [],
   "source": [
    "from sklearn.preprocessing import LabelEncoder\n",
    "label_encoder = LabelEncoder()\n",
    "categorical_cols = ['gender', 'Partner', 'Dependents', 'PhoneService', 'MultipleLines', 'Contract', 'Churn']\n",
    "\n",
    "for col in categorical_cols:\n",
    "    df[col] = label_encoder.fit_transform(df[col])"
   ]
  },
  {
   "cell_type": "code",
   "execution_count": 54,
   "id": "67d0188a-23ab-496b-837f-d0d2682e82e7",
   "metadata": {},
   "outputs": [
    {
     "data": {
      "text/html": [
       "<div>\n",
       "<style scoped>\n",
       "    .dataframe tbody tr th:only-of-type {\n",
       "        vertical-align: middle;\n",
       "    }\n",
       "\n",
       "    .dataframe tbody tr th {\n",
       "        vertical-align: top;\n",
       "    }\n",
       "\n",
       "    .dataframe thead th {\n",
       "        text-align: right;\n",
       "    }\n",
       "</style>\n",
       "<table border=\"1\" class=\"dataframe\">\n",
       "  <thead>\n",
       "    <tr style=\"text-align: right;\">\n",
       "      <th></th>\n",
       "      <th>gender</th>\n",
       "      <th>SeniorCitizen</th>\n",
       "      <th>Partner</th>\n",
       "      <th>Dependents</th>\n",
       "      <th>tenure</th>\n",
       "      <th>PhoneService</th>\n",
       "      <th>MultipleLines</th>\n",
       "      <th>Contract</th>\n",
       "      <th>TotalCharges</th>\n",
       "      <th>Churn</th>\n",
       "    </tr>\n",
       "  </thead>\n",
       "  <tbody>\n",
       "    <tr>\n",
       "      <th>0</th>\n",
       "      <td>0</td>\n",
       "      <td>0</td>\n",
       "      <td>1</td>\n",
       "      <td>0</td>\n",
       "      <td>1</td>\n",
       "      <td>0</td>\n",
       "      <td>1</td>\n",
       "      <td>0</td>\n",
       "      <td>29.85</td>\n",
       "      <td>0</td>\n",
       "    </tr>\n",
       "  </tbody>\n",
       "</table>\n",
       "</div>"
      ],
      "text/plain": [
       "   gender  SeniorCitizen  Partner  Dependents  tenure  PhoneService  \\\n",
       "0       0              0        1           0       1             0   \n",
       "\n",
       "   MultipleLines  Contract TotalCharges  Churn  \n",
       "0              1         0        29.85      0  "
      ]
     },
     "execution_count": 54,
     "metadata": {},
     "output_type": "execute_result"
    }
   ],
   "source": [
    "df.head(1)"
   ]
  },
  {
   "cell_type": "markdown",
   "id": "93882254-87a4-4cd4-b2d5-0b5ab1bd9eac",
   "metadata": {},
   "source": [
    "### **SPLIT THE DATA INTO TRAINING AD TESTING DATA**"
   ]
  },
  {
   "cell_type": "code",
   "execution_count": 55,
   "id": "b0fc9e7c-9014-4905-b8b8-5a77966fe95c",
   "metadata": {},
   "outputs": [],
   "source": [
    "X = df.drop('Churn', axis=1)\n",
    "y= df['Churn']"
   ]
  },
  {
   "cell_type": "code",
   "execution_count": 56,
   "id": "c6ff8134-3911-4b09-b657-1567cca680ad",
   "metadata": {},
   "outputs": [],
   "source": [
    "from sklearn.model_selection import train_test_split\n",
    "X_train, X_test, y_train, y_test =train_test_split(X, y, test_size=0.2, random_state = 42)"
   ]
  },
  {
   "cell_type": "code",
   "execution_count": 57,
   "id": "93b0632e-2418-42a7-885a-276ecd239c5f",
   "metadata": {},
   "outputs": [
    {
     "data": {
      "text/plain": [
       "(5634, 9)"
      ]
     },
     "execution_count": 57,
     "metadata": {},
     "output_type": "execute_result"
    }
   ],
   "source": [
    "X_train.shape"
   ]
  },
  {
   "cell_type": "code",
   "execution_count": 58,
   "id": "920188f6-b3c7-415c-ae29-aa7deff8451d",
   "metadata": {},
   "outputs": [
    {
     "data": {
      "text/plain": [
       "(1409, 9)"
      ]
     },
     "execution_count": 58,
     "metadata": {},
     "output_type": "execute_result"
    }
   ],
   "source": [
    "X_test.shape"
   ]
  },
  {
   "cell_type": "code",
   "execution_count": 59,
   "id": "fcd8653a-91c0-4465-bf0e-ca0d514c3964",
   "metadata": {},
   "outputs": [
    {
     "name": "stdout",
     "output_type": "stream",
     "text": [
      "<class 'pandas.core.frame.DataFrame'>\n",
      "Index: 5634 entries, 2142 to 860\n",
      "Data columns (total 9 columns):\n",
      " #   Column         Non-Null Count  Dtype \n",
      "---  ------         --------------  ----- \n",
      " 0   gender         5634 non-null   int32 \n",
      " 1   SeniorCitizen  5634 non-null   int64 \n",
      " 2   Partner        5634 non-null   int32 \n",
      " 3   Dependents     5634 non-null   int32 \n",
      " 4   tenure         5634 non-null   int64 \n",
      " 5   PhoneService   5634 non-null   int32 \n",
      " 6   MultipleLines  5634 non-null   int32 \n",
      " 7   Contract       5634 non-null   int32 \n",
      " 8   TotalCharges   5634 non-null   object\n",
      "dtypes: int32(6), int64(2), object(1)\n",
      "memory usage: 308.1+ KB\n"
     ]
    }
   ],
   "source": [
    "X_train.info()"
   ]
  },
  {
   "cell_type": "code",
   "execution_count": 60,
   "id": "f019c04c-489a-43b6-ba93-5c67a95145c8",
   "metadata": {},
   "outputs": [],
   "source": [
    "X_train['TotalCharges'] = pd.to_numeric(X_train['TotalCharges'], errors='coerce')\n",
    "X_test['TotalCharges'] = pd.to_numeric(X_test['TotalCharges'], errors = 'coerce')"
   ]
  },
  {
   "cell_type": "code",
   "execution_count": 61,
   "id": "b0e4203c-d4fd-4634-a7f1-c1fdfe2dcd44",
   "metadata": {},
   "outputs": [
    {
     "name": "stdout",
     "output_type": "stream",
     "text": [
      "<class 'pandas.core.frame.DataFrame'>\n",
      "Index: 5634 entries, 2142 to 860\n",
      "Data columns (total 9 columns):\n",
      " #   Column         Non-Null Count  Dtype  \n",
      "---  ------         --------------  -----  \n",
      " 0   gender         5634 non-null   int32  \n",
      " 1   SeniorCitizen  5634 non-null   int64  \n",
      " 2   Partner        5634 non-null   int32  \n",
      " 3   Dependents     5634 non-null   int32  \n",
      " 4   tenure         5634 non-null   int64  \n",
      " 5   PhoneService   5634 non-null   int32  \n",
      " 6   MultipleLines  5634 non-null   int32  \n",
      " 7   Contract       5634 non-null   int32  \n",
      " 8   TotalCharges   5624 non-null   float64\n",
      "dtypes: float64(1), int32(6), int64(2)\n",
      "memory usage: 308.1 KB\n"
     ]
    }
   ],
   "source": [
    "X_train.info()"
   ]
  },
  {
   "cell_type": "code",
   "execution_count": 62,
   "id": "e9ead90a-c3e4-4fa7-b3da-f6dd6826521d",
   "metadata": {},
   "outputs": [
    {
     "data": {
      "text/plain": [
       "gender            0\n",
       "SeniorCitizen     0\n",
       "Partner           0\n",
       "Dependents        0\n",
       "tenure            0\n",
       "PhoneService      0\n",
       "MultipleLines     0\n",
       "Contract          0\n",
       "TotalCharges     10\n",
       "dtype: int64"
      ]
     },
     "execution_count": 62,
     "metadata": {},
     "output_type": "execute_result"
    }
   ],
   "source": [
    "X_train.isnull().sum()"
   ]
  },
  {
   "cell_type": "code",
   "execution_count": 63,
   "id": "eb4c0899-0b20-49e3-9ad6-334b5d7c3975",
   "metadata": {},
   "outputs": [
    {
     "name": "stderr",
     "output_type": "stream",
     "text": [
      "C:\\Users\\HI\\AppData\\Local\\Temp\\ipykernel_22068\\53925130.py:1: FutureWarning: A value is trying to be set on a copy of a DataFrame or Series through chained assignment using an inplace method.\n",
      "The behavior will change in pandas 3.0. This inplace method will never work because the intermediate object on which we are setting values always behaves as a copy.\n",
      "\n",
      "For example, when doing 'df[col].method(value, inplace=True)', try using 'df.method({col: value}, inplace=True)' or df[col] = df[col].method(value) instead, to perform the operation inplace on the original object.\n",
      "\n",
      "\n",
      "  X_train['TotalCharges'].fillna(X_train['TotalCharges'].mean(), inplace=True)\n",
      "C:\\Users\\HI\\AppData\\Local\\Temp\\ipykernel_22068\\53925130.py:2: FutureWarning: A value is trying to be set on a copy of a DataFrame or Series through chained assignment using an inplace method.\n",
      "The behavior will change in pandas 3.0. This inplace method will never work because the intermediate object on which we are setting values always behaves as a copy.\n",
      "\n",
      "For example, when doing 'df[col].method(value, inplace=True)', try using 'df.method({col: value}, inplace=True)' or df[col] = df[col].method(value) instead, to perform the operation inplace on the original object.\n",
      "\n",
      "\n",
      "  X_test['TotalCharges'].fillna(X_test['TotalCharges'].mean(), inplace=True)\n"
     ]
    }
   ],
   "source": [
    "X_train['TotalCharges'].fillna(X_train['TotalCharges'].mean(), inplace=True)\n",
    "X_test['TotalCharges'].fillna(X_test['TotalCharges'].mean(), inplace=True)"
   ]
  },
  {
   "cell_type": "code",
   "execution_count": 64,
   "id": "3f472e75-c0d0-4782-86cf-bba8f0795249",
   "metadata": {},
   "outputs": [
    {
     "data": {
      "text/plain": [
       "gender           0\n",
       "SeniorCitizen    0\n",
       "Partner          0\n",
       "Dependents       0\n",
       "tenure           0\n",
       "PhoneService     0\n",
       "MultipleLines    0\n",
       "Contract         0\n",
       "TotalCharges     0\n",
       "dtype: int64"
      ]
     },
     "execution_count": 64,
     "metadata": {},
     "output_type": "execute_result"
    }
   ],
   "source": [
    "X_train.isnull().sum()"
   ]
  },
  {
   "cell_type": "markdown",
   "id": "cf080a6c-361d-4ca1-bafd-250238b4d34e",
   "metadata": {},
   "source": [
    "### **Standardize Feature**"
   ]
  },
  {
   "cell_type": "code",
   "execution_count": 65,
   "id": "efff3b78-a98c-4c36-b2b5-0fb6e9c11662",
   "metadata": {},
   "outputs": [],
   "source": [
    "from sklearn.preprocessing import StandardScaler\n",
    "scaler = StandardScaler()\n",
    "X_train = scaler.fit_transform(X_train)\n",
    "X_test = scaler.transform(X_test)"
   ]
  },
  {
   "cell_type": "code",
   "execution_count": 66,
   "id": "df85bda0-7a08-40db-9c1d-20bf93f6b646",
   "metadata": {},
   "outputs": [
    {
     "data": {
      "text/plain": [
       "array([[-1.02516569, -0.4377492 , -0.96957859, ..., -1.00053704,\n",
       "         0.37290835, -0.42210502],\n",
       "       [-1.02516569, -0.4377492 , -0.96957859, ...,  1.10833901,\n",
       "         1.5775905 ,  1.25536015],\n",
       "       [ 0.97545208, -0.4377492 ,  1.03137591, ...,  0.05390099,\n",
       "        -0.83177379, -1.00299144],\n",
       "       ...,\n",
       "       [ 0.97545208, -0.4377492 ,  1.03137591, ..., -1.00053704,\n",
       "        -0.83177379, -0.87799925],\n",
       "       [ 0.97545208,  2.28441306, -0.96957859, ...,  1.10833901,\n",
       "        -0.83177379, -0.48254445],\n",
       "       [ 0.97545208, -0.4377492 , -0.96957859, ..., -1.00053704,\n",
       "         0.37290835, -0.81110232]])"
      ]
     },
     "execution_count": 66,
     "metadata": {},
     "output_type": "execute_result"
    }
   ],
   "source": [
    "X_train"
   ]
  },
  {
   "cell_type": "markdown",
   "id": "41182362-2aa2-4f5f-8439-6d310026c732",
   "metadata": {},
   "source": [
    "### **LOGISTIC REGRESSION**"
   ]
  },
  {
   "cell_type": "code",
   "execution_count": 67,
   "id": "245f5127-9aa0-4091-b437-c1ac2d9c1b2a",
   "metadata": {},
   "outputs": [],
   "source": [
    "from sklearn.linear_model import LogisticRegression\n",
    "lg = LogisticRegression()\n",
    "lg.fit(X_train, y_train)\n",
    "y_pred = lg.predict(X_test)"
   ]
  },
  {
   "cell_type": "code",
   "execution_count": 68,
   "id": "2f7a86f9-e5e7-412e-9493-0d18c957bf79",
   "metadata": {},
   "outputs": [
    {
     "data": {
      "text/plain": [
       "array([1, 0, 0, ..., 0, 0, 1])"
      ]
     },
     "execution_count": 68,
     "metadata": {},
     "output_type": "execute_result"
    }
   ],
   "source": [
    "y_pred"
   ]
  },
  {
   "cell_type": "markdown",
   "id": "92500096-fc7a-4dd8-bf5d-53b0f4430a33",
   "metadata": {},
   "source": [
    "### **Accuracy Score**"
   ]
  },
  {
   "cell_type": "code",
   "execution_count": 69,
   "id": "b85d7a5e-65ed-4234-9b7f-02cc8321c19e",
   "metadata": {},
   "outputs": [
    {
     "data": {
      "text/plain": [
       "0.7757274662881476"
      ]
     },
     "execution_count": 69,
     "metadata": {},
     "output_type": "execute_result"
    }
   ],
   "source": [
    "from sklearn.metrics import accuracy_score\n",
    "accuracy_score(y_test, y_pred)"
   ]
  },
  {
   "cell_type": "code",
   "execution_count": 70,
   "id": "9c854150-5b5b-46a8-8217-b9da667aeb55",
   "metadata": {},
   "outputs": [],
   "source": [
    "import pickle\n",
    "\n",
    "# Save the model safely using a context manager\n",
    "with open('Logistic_regression.pkl', 'wb') as f:\n",
    "    pickle.dump(lg, f)\n"
   ]
  },
  {
   "cell_type": "markdown",
   "id": "a4818fb6-6d77-4fae-81d6-86f150721ebb",
   "metadata": {},
   "source": [
    "### **CLASSIFICATION SYSTEM**"
   ]
  },
  {
   "cell_type": "code",
   "execution_count": 71,
   "id": "380ae8d7-7cfc-4ba4-a6dd-bc631d3863b0",
   "metadata": {},
   "outputs": [],
   "source": [
    "def predictive(gender, Seniorcitizen, Partner, Dependents, tenure, Phoneservice, multiline, contact, totalcharge):\n",
    "    data={\n",
    "        'gender':[gender],\n",
    "        'Seniorcitizen':[Seniorcitizen],\n",
    "        'Partner':[Partner],\n",
    "        'Dependents':[Dependents],\n",
    "        'tenure':[tenure],\n",
    "        'Phoneservice':[Phoneservice],\n",
    "        'multiline':[multiline],\n",
    "        'contact':[contact],\n",
    "        'totalcharge':[totalcharge]\n",
    "    }\n",
    "    df1= pd.DataFrame(data)\n",
    "    categorical_columns = ['gender', 'Seniorcitizen', 'Partner', 'Dependents', 'Phoneservice', 'multiline', 'contact','totalcharge']\n",
    "    for column in categorical_columns:\n",
    "        df1[column] = label_encoder.fit_transform(df1[column])\n",
    "\n",
    "    df1 = scaler.fit_transform(df1)\n",
    "    result = lg.predict(df1).reshape(1,-1)\n",
    "    return result[0]"
   ]
  },
  {
   "cell_type": "code",
   "execution_count": null,
   "id": "afdd0518-f0fd-456a-9a17-a93557a0a678",
   "metadata": {},
   "outputs": [],
   "source": []
  },
  {
   "cell_type": "code",
   "execution_count": 72,
   "id": "9bba57c9-4f55-4380-ac7f-07ae0dee9153",
   "metadata": {},
   "outputs": [
    {
     "name": "stdout",
     "output_type": "stream",
     "text": [
      "Not churn\n"
     ]
    }
   ],
   "source": [
    "gender = \"Female\"\n",
    "Seniorcitizen =\"No\"\n",
    "Partner = \"Yes\"\n",
    "Dependents = \"No\"\n",
    "tenure = 1\n",
    "Phoneservice = \"No\"\n",
    "multiline = \"No phone Service\"\n",
    "contact = \"Month-to-month\"\n",
    "totalcharge = 29.85\n",
    "result=predictive(gender,Seniorcitizen,Partner,Dependents, tenure,Phoneservice,multiline, contact, totalcharge)\n",
    "if result ==0:\n",
    "    print(\"Not churn\")\n",
    "else:\n",
    "    print(\"Churn\")"
   ]
  },
  {
   "cell_type": "code",
   "execution_count": null,
   "id": "4efb91a1-303a-4583-ad4a-e83abbf1eb27",
   "metadata": {},
   "outputs": [],
   "source": []
  }
 ],
 "metadata": {
  "kernelspec": {
   "display_name": "Python 3 (ipykernel)",
   "language": "python",
   "name": "python3"
  },
  "language_info": {
   "codemirror_mode": {
    "name": "ipython",
    "version": 3
   },
   "file_extension": ".py",
   "mimetype": "text/x-python",
   "name": "python",
   "nbconvert_exporter": "python",
   "pygments_lexer": "ipython3",
   "version": "3.12.7"
  }
 },
 "nbformat": 4,
 "nbformat_minor": 5
}
